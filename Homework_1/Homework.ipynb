{
 "cells": [
  {
   "cell_type": "code",
   "execution_count": 29,
   "id": "4450540b-5009-415e-8a6d-e30ce2bd362d",
   "metadata": {},
   "outputs": [],
   "source": [
    "import openai\n",
    "import os"
   ]
  },
  {
   "cell_type": "code",
   "execution_count": 30,
   "id": "695e39ad-d1d3-4e71-b981-6d0bf3c91367",
   "metadata": {},
   "outputs": [],
   "source": [
    "from openai import OpenAI"
   ]
  },
  {
   "cell_type": "code",
   "execution_count": 31,
   "id": "2afeacb9-b0f7-43e7-88e9-e882baf79e88",
   "metadata": {},
   "outputs": [],
   "source": [
    "client = OpenAI(\n",
    "  base_url=\"https://openrouter.ai/api/v1\",\n",
    ")"
   ]
  },
  {
   "cell_type": "code",
   "execution_count": 32,
   "id": "6ac45173-4964-48dc-9ee2-3d7ddfe009b1",
   "metadata": {},
   "outputs": [
    {
     "name": "stdout",
     "output_type": "stream",
     "text": [
      "It depends on the specific details of the course you are interested in. Typically, courses have a set enrollment period, but some may offer: 1. **Continuous Enrollment**: These courses allow new students to join at any time. 2. **Rolling Admissions**: Some programs may accept new students periodically (e.g., every month). 3. **Fixed Start Dates**: Many courses have specific start and end dates, and you may have to wait until the next session begins. To find out if it's too late to join a course: 1. Check the Course Website: Look for enrollment deadlines or contact details for the course administrators. 2. Contact the Instructor/Administrator: Reach out to the course provider via email or phone to inquire about your options. 3. Check for Late Enrollment Policies: Some courses may allow late enrollment with certain conditions (e.g., catching up on missed work). 4. Waitlist: If the course is full, ask if there's a waitlist in case a spot opens up. 5. Explore Next Available Session: If enrollment has closed, find out when the next session will be and sign up in advance. Remember, it's always best to check directly with the course providers for accurate information.\n"
     ]
    }
   ],
   "source": [
    "completion = client.chat.completions.create(\n",
    "  #extra_headers={\n",
    "  #  \"HTTP-Referer\": \"<YOUR_SITE_URL>\", # Optional. Site URL for rankings on openrouter.ai.\n",
    "  #  \"X-Title\": \"<YOUR_SITE_NAME>\", # Optional. Site title for rankings on openrouter.ai.\n",
    "  #},\n",
    "  extra_body={},\n",
    "  model=\"deepseek/deepseek-prover-v2:free\",\n",
    "  messages=[\n",
    "    {\n",
    "      \"role\": \"user\",\n",
    "      \"content\": \"Is it to late to join the course\"\n",
    "    }\n",
    "  ]\n",
    ")\n",
    "print(completion.choices[0].message.content)"
   ]
  },
  {
   "cell_type": "code",
   "execution_count": null,
   "id": "2896c807-43e8-4a35-9985-2b6073d0f941",
   "metadata": {},
   "outputs": [],
   "source": []
  }
 ],
 "metadata": {
  "kernelspec": {
   "display_name": "Python 3 (ipykernel)",
   "language": "python",
   "name": "python3"
  },
  "language_info": {
   "codemirror_mode": {
    "name": "ipython",
    "version": 3
   },
   "file_extension": ".py",
   "mimetype": "text/x-python",
   "name": "python",
   "nbconvert_exporter": "python",
   "pygments_lexer": "ipython3",
   "version": "3.12.1"
  }
 },
 "nbformat": 4,
 "nbformat_minor": 5
}
